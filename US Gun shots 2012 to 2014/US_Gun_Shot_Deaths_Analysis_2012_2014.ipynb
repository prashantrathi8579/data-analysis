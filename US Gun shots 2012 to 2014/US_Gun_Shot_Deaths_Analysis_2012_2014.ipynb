{
 "cells": [
  {
   "cell_type": "markdown",
   "metadata": {},
   "source": [
    "# US gun deaths data for a period of 2012 to 2014\n",
    "The dataset is used from __[fivethirtyeight](https://github.com/fivethirtyeight/guns-data)__ and stored in guns.csv file.<br>\n",
    "<div class=\"alert alert-block alert-info\">Below analysis is done using basic Python. Analysis will reveal following insights from the data:<br>\n",
    "- Total death counts with respect to particular categorial attribute. For e.g total gun shot deaths counts of Female\n",
    "in given three years of data.\n",
    "- %(percentage) of deaths in a particular race filtered with intent/gender. Same function can be extended to be used for  other categories.\n",
    "\n",
    "Note __gun.csv__ data is already clean. So, not added any step to clean the data.\n",
    " \n",
    "</div>\n",
    "##### The details of each field in the data set is given below\n",
    "   __--__ -- this is an identifier column, which contains the row number. It's common in CSV files to include a unique identifier for each row, but we can ignore it in this analysis.<br>\n",
    "   __year__-- the year in which the fatality occurred.<br>\n",
    "   __month__-- the month in which the fatality occurred.<br>\n",
    "   __intent__-- the intent of the perpetrator of the crime. This can be Suicide, Accidental, NA, Homicide, or Undetermined.<br>\n",
    "   __police__-- whether a police officer was involved with the shooting. Either 0 (false) or 1 (true).<br>\n",
    "   __sex__-- the gender of the victim. Either M or F.<br>\n",
    "   __age__ -- the age of the victim.<br>\n",
    "   __race__ -- the race of the victim. Either Asian/Pacific Islander, Native American/Native Alaskan, Black, Hispanic, or White.<br>\n",
    "   __hispanic__ -- a code indicating the Hispanic origin of the victim.<br>\n",
    "   __place__ -- where the shooting occurred. Has several categories, which you're encouraged to explore on your own.<br>\n",
    "   __education__ -- educational status of the victim. Can be one of the following:\n",
    "\n",
    "    1 -- Less than High School\n",
    "    2 -- Graduated from High School or equivalent\n",
    "    3 -- Some College\n",
    "    4 -- At least graduated from College\n",
    "    5 -- Not available\n",
    "\n"
   ]
  },
  {
   "cell_type": "markdown",
   "metadata": {},
   "source": [
    "### Loading US gun deaths data between 2012 to 2014"
   ]
  },
  {
   "cell_type": "code",
   "execution_count": 3,
   "metadata": {},
   "outputs": [
    {
     "data": {
      "text/plain": [
       "[['',\n",
       "  'year',\n",
       "  'month',\n",
       "  'intent',\n",
       "  'police',\n",
       "  'sex',\n",
       "  'age',\n",
       "  'race',\n",
       "  'hispanic',\n",
       "  'place',\n",
       "  'education'],\n",
       " ['1',\n",
       "  '2012',\n",
       "  '01',\n",
       "  'Suicide',\n",
       "  '0',\n",
       "  'M',\n",
       "  '34',\n",
       "  'Asian/Pacific Islander',\n",
       "  '100',\n",
       "  'Home',\n",
       "  '4']]"
      ]
     },
     "execution_count": 3,
     "metadata": {},
     "output_type": "execute_result"
    }
   ],
   "source": [
    "import csv\n",
    "\n",
    "file = open(\"guns.csv\")\n",
    "data = list(csv.reader(file))\n",
    "data[0:2]\n"
   ]
  },
  {
   "cell_type": "markdown",
   "metadata": {},
   "source": [
    "### Deleting first column from the data as it is just the counter of rows in gun.csv file"
   ]
  },
  {
   "cell_type": "code",
   "execution_count": 4,
   "metadata": {},
   "outputs": [
    {
     "data": {
      "text/plain": [
       "[['year',\n",
       "  'month',\n",
       "  'intent',\n",
       "  'police',\n",
       "  'sex',\n",
       "  'age',\n",
       "  'race',\n",
       "  'hispanic',\n",
       "  'place',\n",
       "  'education'],\n",
       " ['2012',\n",
       "  '01',\n",
       "  'Suicide',\n",
       "  '0',\n",
       "  'M',\n",
       "  '34',\n",
       "  'Asian/Pacific Islander',\n",
       "  '100',\n",
       "  'Home',\n",
       "  '4'],\n",
       " ['2012', '01', 'Suicide', '0', 'F', '21', 'White', '100', 'Street', '3']]"
      ]
     },
     "execution_count": 4,
     "metadata": {},
     "output_type": "execute_result"
    }
   ],
   "source": [
    "subdata = data\n",
    "subdata = [sublist[slice(1,12)] for sublist in subdata]\n",
    "subdata[0:3]"
   ]
  },
  {
   "cell_type": "markdown",
   "metadata": {},
   "source": [
    "### Analysis on total gun deaths by year / sex / race"
   ]
  },
  {
   "cell_type": "code",
   "execution_count": 14,
   "metadata": {},
   "outputs": [
    {
     "name": "stdout",
     "output_type": "stream",
     "text": [
      "{'2012': 33563, '2013': 33636, '2014': 33599}\n",
      "{'Asian/Pacific Islander': 1326, 'White': 66237, 'Native American/Native Alaskan': 917, 'Black': 23296, 'Hispanic': 9022}\n",
      "{'M': 86349, 'F': 14449}\n",
      "100798\n"
     ]
    }
   ],
   "source": [
    "#Function to get total death counts on a particular categorial attribute.\n",
    "\n",
    "def cloumnWiseDeathCount(data, column):\n",
    "    column_counts = {}\n",
    "    for row in data:\n",
    "        if row[column] in column_counts:\n",
    "            column_counts[row[column]] += 1\n",
    "        else:\n",
    "            column_counts[row[column]] = 1\n",
    "    return(column_counts)\n",
    "\n",
    "#year wise death counts\n",
    "year_death_counts = cloumnWiseDeathCount(subdata, 0)\n",
    "\n",
    "#gender wise death counts\n",
    "sex_counts = cloumnWiseDeathCount(subdata, 4)\n",
    "\n",
    "#race wise death counts\n",
    "race_counts = cloumnWiseDeathCount(subdata, 6)\n",
    "\n",
    "print(year_death_counts)\n",
    "print(race_counts)\n",
    "print(sex_counts)\n",
    "\n",
    "\n",
    "print(sex_counts[\"M\"] + sex_counts[\"F\"])\n"
   ]
  },
  {
   "cell_type": "markdown",
   "metadata": {},
   "source": [
    "#### Findings in above results\n",
    "__Year Analysis:__ Gun shot deaths between 2012 to 2014 were almost same.<br>\n",
    "\n",
    "__Gender Analysis:__ The proportion between male,female gun shot deaths had big difference. Male gun shot deaths are neary 6 times more than female gun shot deaths. Big concern!<br>\n",
    "\n",
    "__Race Analysis:__ Gun shot deaths also varies across different races. Both \"White\" and \"Black\" race peoples are disproportionately affected compared to other races.<br>\n",
    "\n",
    "    \"census.csv\" file has total US population across different races between 2012 to 2014. It might be helpful to gather more info across various races filtering with respect to other category. Like, %(percentage) of female deaths across all races.\n"
   ]
  },
  {
   "cell_type": "markdown",
   "metadata": {},
   "source": [
    "### Loading census.csv containing total US polutaion across different races between 2012 to 2014"
   ]
  },
  {
   "cell_type": "code",
   "execution_count": 6,
   "metadata": {},
   "outputs": [
    {
     "data": {
      "text/plain": [
       "[['Id',\n",
       "  'Year',\n",
       "  'Id',\n",
       "  'Sex',\n",
       "  'Id',\n",
       "  'Hispanic Origin',\n",
       "  'Id',\n",
       "  'Id2',\n",
       "  'Geography',\n",
       "  'Total',\n",
       "  'Race Alone - White',\n",
       "  'Race Alone - Hispanic',\n",
       "  'Race Alone - Black or African American',\n",
       "  'Race Alone - American Indian and Alaska Native',\n",
       "  'Race Alone - Asian',\n",
       "  'Race Alone - Native Hawaiian and Other Pacific Islander',\n",
       "  'Two or More Races'],\n",
       " ['cen42010',\n",
       "  'April 1, 2010 Census',\n",
       "  'totsex',\n",
       "  'Both Sexes',\n",
       "  'tothisp',\n",
       "  'Total',\n",
       "  '0100000US',\n",
       "  '',\n",
       "  'United States',\n",
       "  '308745538',\n",
       "  '197318956',\n",
       "  '44618105',\n",
       "  '40250635',\n",
       "  '3739506',\n",
       "  '15159516',\n",
       "  '674625',\n",
       "  '6984195']]"
      ]
     },
     "execution_count": 6,
     "metadata": {},
     "output_type": "execute_result"
    }
   ],
   "source": [
    "f = open(\"census.csv\")\n",
    "census = list(csv.reader(f))\n",
    "census[0:]\n"
   ]
  },
  {
   "cell_type": "markdown",
   "metadata": {},
   "source": [
    "# US gun death rates on races with respect to intent/gender\n",
    "\n",
    "Each races gun death rate on a particular intent or gender is calculated.\n",
    "This shows filtering particular intent or gender deaths in a particular race.\n",
    "\n",
    "\n",
    "# Improvements\n",
    "Made functions to make calculations generic with races to any column.\n",
    "\n",
    "\n",
    "__Steps:__\n",
    "1. Call __getRaceDataWithRespectToPassedColumn__ by passing column number of races and respective column. For e.g 6 is the index of races info and 4 is the index of gender.(refer subdata)\n",
    "2. Above step witll give list of lists having race and corresponding gender in each row.\n",
    "3. Call __racesCountWithRespectToOtherCol__ with list of lists created above and \"F\"/\"M\" (gender) info.\n",
    "__(above we created lists of lists with respect to gender column)__\n",
    "4. With above step we have dictionary ready with count info of each races with respect to \"F\" or \"M\" used.\n",
    "5. Call __per_hundredk_rates__ passing dictionary created above and mapping data."
   ]
  },
  {
   "cell_type": "code",
   "execution_count": 8,
   "metadata": {},
   "outputs": [
    {
     "name": "stdout",
     "output_type": "stream",
     "text": [
      "Asian/Pacific Islander\n",
      "White\n",
      "Native American/Native Alaskan\n",
      "Black\n",
      "Hispanic\n"
     ]
    },
    {
     "data": {
      "text/plain": [
       "{'Asian/Pacific Islander': 15834141,\n",
       " 'Black': 40250635,\n",
       " 'Hispanic': 44618105,\n",
       " 'Native American/Native Alaskan': 3739506,\n",
       " 'White': 197318956}"
      ]
     },
     "execution_count": 8,
     "metadata": {},
     "output_type": "execute_result"
    }
   ],
   "source": [
    "# Mapping between two data set files. Names in gun.csv mapped to race count data in census.csv.\n",
    "# Here mapping dictionary contains total population per race in US.\n",
    "\n",
    "mapping = {}\n",
    "\n",
    "for row in race_counts:\n",
    "    print(row)\n",
    "    if row == \"Black\":\n",
    "        mapping[row] = int(census[1][12])\n",
    "    elif row == \"Hispanic\":\n",
    "        mapping[row] = int(census[1][11])\n",
    "    elif row == \"Native American/Native Alaskan\":\n",
    "        mapping[row] = int(census[1][13])\n",
    "    elif row == \"Asian/Pacific Islander\":\n",
    "        mapping[row] = int(census[1][14]) + int(census[1][15])\n",
    "    elif row == \"White\":\n",
    "        mapping[row] = int(census[1][10])\n",
    "mapping"
   ]
  },
  {
   "cell_type": "markdown",
   "metadata": {},
   "source": [
    "### Following is the rate of deaths per 100k in a particular race"
   ]
  },
  {
   "cell_type": "code",
   "execution_count": 13,
   "metadata": {},
   "outputs": [
    {
     "data": {
      "text/plain": [
       "{'Asian/Pacific Islander': 8.374309664161762,\n",
       " 'Black': 57.8773477735196,\n",
       " 'Hispanic': 20.220491210910907,\n",
       " 'Native American/Native Alaskan': 24.521955573811088,\n",
       " 'White': 33.56849303419181}"
      ]
     },
     "execution_count": 13,
     "metadata": {},
     "output_type": "execute_result"
    }
   ],
   "source": [
    "#Having different races total population details in US between 2012 to 2014. \n",
    "\n",
    "def per_hundredk_rates(onData, totalPopulationData):\n",
    "    per_hundredk = {}\n",
    "    for row in onData:\n",
    "        val = (onData[row]/totalPopulationData[row]) * 100000\n",
    "        per_hundredk[row] = val\n",
    "    return(per_hundredk)\n",
    "race_per_hundredk = per_hundredk_rates(onData=race_counts, totalPopulationData = mapping)\n",
    "race_per_hundredk"
   ]
  },
  {
   "cell_type": "code",
   "execution_count": 10,
   "metadata": {},
   "outputs": [
    {
     "name": "stdout",
     "output_type": "stream",
     "text": [
      "[['Asian/Pacific Islander', 'Suicide'], ['White', 'Suicide'], ['White', 'Suicide'], ['White', 'Suicide'], ['White', 'Suicide']]\n",
      "[['Asian/Pacific Islander', 'M'], ['White', 'F'], ['White', 'M'], ['White', 'M'], ['White', 'M']]\n"
     ]
    }
   ],
   "source": [
    "#List of lists containing race, particularColumnData(intent/gender/or any)\n",
    "\n",
    "def getRaceDataWithRespectToPassedColumn(raceColumn, withRespectToColumn):\n",
    "    list_races_data = [[row[raceColumn], row[withRespectToColumn]] for row in subdata]\n",
    "    return(list_races_data)\n",
    "\n",
    "#list_races_intent is list of lists [race, intent]\n",
    "list_races_intent = getRaceDataWithRespectToPassedColumn(6,2)\n",
    "\n",
    "#list_races_gender is the list of lists [race, gender]\n",
    "list_races_gender = getRaceDataWithRespectToPassedColumn(6,4)\n",
    "\n",
    "print(list_races_intent[0:5])\n",
    "print(list_races_gender[0:5])"
   ]
  },
  {
   "cell_type": "markdown",
   "metadata": {},
   "source": [
    "### Filtering deaths gender wise/intent wise in a particular race. \n"
   ]
  },
  {
   "cell_type": "code",
   "execution_count": 15,
   "metadata": {
    "scrolled": true
   },
   "outputs": [
    {
     "name": "stdout",
     "output_type": "stream",
     "text": [
      "{'White': 9147, 'Asian/Pacific Islander': 559, 'Black': 19510, 'Native American/Native Alaskan': 326, 'Hispanic': 5634}\n",
      "{'White': 10687, 'Black': 2318, 'Native American/Native Alaskan': 127, 'Hispanic': 1073, 'Asian/Pacific Islander': 244}\n"
     ]
    }
   ],
   "source": [
    "def racesCountWithRespectToOtherCol(race_col_list, withRespectToColToRefer):\n",
    "    race_counts = {}\n",
    "    for row in race_col_list:\n",
    "        if row[1] == withRespectToColToRefer:\n",
    "            if row[0] in race_counts:\n",
    "               race_counts[row[0]] += 1\n",
    "            else:\n",
    "                race_counts[row[0]] = 1\n",
    "    return(race_counts)\n",
    "\n",
    "print(racesCountWithRespectToOtherCol(list_races_intent, \"Homicide\"))\n",
    "print(racesCountWithRespectToOtherCol(list_races_gender, \"F\"))\n",
    "\n",
    "# Similarly, function can be used for male deaths too.\n",
    "# Firth param is a lists of lists with [race, particular column] with which we wanted to get data"
   ]
  },
  {
   "cell_type": "markdown",
   "metadata": {},
   "source": [
    "### Gun shot death %(percentage) of female per 100k rates of race"
   ]
  },
  {
   "cell_type": "code",
   "execution_count": 29,
   "metadata": {},
   "outputs": [
    {
     "data": {
      "text/plain": [
       "{'Asian/Pacific Islander': 1.5409740256828584,\n",
       " 'Black': 5.7589153562422055,\n",
       " 'Hispanic': 2.404853366139149,\n",
       " 'Native American/Native Alaskan': 3.3961705102224733,\n",
       " 'White': 5.416104066555065}"
      ]
     },
     "execution_count": 29,
     "metadata": {},
     "output_type": "execute_result"
    }
   ],
   "source": [
    "per_hundredk_rates(racesCountWithRespectToOtherCol(list_races_gender, \"F\"), mapping)"
   ]
  },
  {
   "cell_type": "markdown",
   "metadata": {},
   "source": [
    "### Findings:\n",
    "__White__ and __Black__ females are disproportionately affected by gun shot deaths."
   ]
  },
  {
   "cell_type": "markdown",
   "metadata": {},
   "source": [
    "### Filtering location wise gun shot deaths across years"
   ]
  },
  {
   "cell_type": "code",
   "execution_count": 51,
   "metadata": {},
   "outputs": [
    {
     "data": {
      "text/plain": [
       "{'2012': 19733, '2013': 20092, '2014': 20661}"
      ]
     },
     "execution_count": 51,
     "metadata": {},
     "output_type": "execute_result"
    }
   ],
   "source": [
    "#funtion to get location wise deaths across diferent years\n",
    "\n",
    "def particularLocationDeathsInAYear(yearLocationList, location):\n",
    "    yearLocationCounts = {}\n",
    "    for row in yearLocationList:\n",
    "        if row[1] == location:\n",
    "            if row[0] in yearLocationCounts:\n",
    "                yearLocationCounts[row[0]] += 1\n",
    "            else:\n",
    "                 yearLocationCounts[row[0]] = 1\n",
    "    return(yearLocationCounts)\n",
    "\n",
    "particularLocationDeathsInAYear([[r[0], r[8]] for r in subdata], 'Home')\n",
    "\n",
    "      \n",
    "        "
   ]
  },
  {
   "cell_type": "markdown",
   "metadata": {},
   "source": [
    "### Findings:\n",
    "Above data reveals home deaths in every year. Home deaths keep increasing every year.<br>\n",
    "\n",
    "Some areas to invstigate further:<br>\n",
    "- Location having highest deaths<br>\n",
    "- Gun deaths by education and race<br>"
   ]
  },
  {
   "cell_type": "code",
   "execution_count": null,
   "metadata": {
    "collapsed": true
   },
   "outputs": [],
   "source": []
  }
 ],
 "metadata": {
  "kernelspec": {
   "display_name": "Python 3",
   "language": "python",
   "name": "python3"
  },
  "language_info": {
   "codemirror_mode": {
    "name": "ipython",
    "version": 3
   },
   "file_extension": ".py",
   "mimetype": "text/x-python",
   "name": "python",
   "nbconvert_exporter": "python",
   "pygments_lexer": "ipython3",
   "version": "3.6.1"
  }
 },
 "nbformat": 4,
 "nbformat_minor": 1
}
